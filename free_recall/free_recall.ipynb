{
 "cells": [
  {
   "cell_type": "code",
   "execution_count": 9,
   "id": "fa8c94d7",
   "metadata": {},
   "outputs": [
    {
     "name": "stdout",
     "output_type": "stream",
     "text": [
      "['horn', 'cake', 'book', 'star', 'milk', 'band', 'sand', 'gift', 'tree', 'bell']\n",
      "\n",
      "You recalled 0 out of 10 words correctly.\n",
      "Correct words: set()\n",
      "Missed words: ['horn', 'cake', 'book', 'star', 'milk', 'band', 'sand', 'gift', 'tree', 'bell']\n"
     ]
    }
   ],
   "source": [
    "import random\n",
    "import time\n",
    "import os\n",
    "\n",
    "text_path = r\"C:\\Users\\alexa\\Documents\\GitHub\\recall_miniproject_02464\\words.txt\"\n",
    "word_pool = open(text_path, \"r\").read().replace(\"\\n\", \"\").replace(\" \", \"\").split(\",\")\n",
    "word_list = random.sample(word_pool, 10)\n",
    "\n",
    "print(word_list)\n",
    "time.sleep(5.0)\n",
    "\n",
    "if os.name == \"nt\":\n",
    "    os.system(\"cls\")\n",
    "else:\n",
    "    os.system(\"clear\")\n",
    "\n",
    "# recall phase\n",
    "recalled = input(\"Type all the words you remember, separated by spaces:\\n\").lower().split()\n",
    "\n",
    "# scoring\n",
    "correct = [w for w in recalled if w in word_list]\n",
    "missed = [w for w in word_list if w not in recalled]\n",
    "\n",
    "print(f\"\\nYou recalled {len(set(correct))} out of {len(word_list)} words correctly.\")\n",
    "print(\"Correct words:\", set(correct))\n",
    "print(\"Missed words:\", missed)\n"
   ]
  }
 ],
 "metadata": {
  "kernelspec": {
   "display_name": "Python 3",
   "language": "python",
   "name": "python3"
  },
  "language_info": {
   "codemirror_mode": {
    "name": "ipython",
    "version": 3
   },
   "file_extension": ".py",
   "mimetype": "text/x-python",
   "name": "python",
   "nbconvert_exporter": "python",
   "pygments_lexer": "ipython3",
   "version": "3.9.13"
  }
 },
 "nbformat": 4,
 "nbformat_minor": 5
}
